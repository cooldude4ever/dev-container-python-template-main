{
 "cells": [
  {
   "cell_type": "code",
   "execution_count": 1,
   "metadata": {},
   "outputs": [],
   "source": [
    "import pandas as pd\n",
    "import numpy as np\n",
    "from sklearn.model_selection import train_test_split\n",
    "from sklearn.preprocessing import StandardScaler\n",
    "from sklearn.linear_model import LinearRegression\n",
    "from sklearn.ensemble import RandomForestRegressor, RandomForestClassifier\n",
    "from sklearn.tree import DecisionTreeRegressor, DecisionTreeClassifier\n",
    "from sklearn.svm import SVR, SVC\n",
    "from sklearn.metrics import mean_absolute_error, mean_squared_error, accuracy_score"
   ]
  },
  {
   "cell_type": "code",
   "execution_count": null,
   "metadata": {},
   "outputs": [],
   "source": [
    "def load_and_preprocess_data(file_path, target_column):\n",
    "    \"\"\"Charge et prépare les données pour l'entraînement.\"\"\"\n",
    "    df = pd.read_csv(file_path)\n",
    "    print(\"Données chargées avec succès.\")\n",
    "\n",
    "    if target_column not in df.columns:\n",
    "        raise ValueError(f\"La colonne cible '{target_column}' n'existe pas dans les données.\")\n",
    "\n",
    "    X = df.drop(columns=['Pays', target_column])  # Suppression des colonnes inutiles\n",
    "    y = df[target_column]\n",
    "\n",
    "    X_train, X_test, y_train, y_test = train_test_split(X, y, test_size=0.2, random_state=42)\n",
    "\n",
    "    # Normalisation des données\n",
    "    scaler = StandardScaler()\n",
    "    X_train = scaler.fit_transform(X_train)\n",
    "    X_test = scaler.transform(X_test)\n",
    "\n",
    "    return X_train, X_test, y_train, y_test, y.nunique() > 5  # Déterminer si c'est un problème de régression\n",
    "\n",
    "def apply_regression(X_train, X_test, y_train, y_test):\n",
    "    \"\"\"Applique des modèles de régression et affiche leurs performances.\"\"\"\n",
    "    models = {\n",
    "        \"Régression Linéaire\": LinearRegression(),\n",
    "        \"Arbre de Décision\": DecisionTreeRegressor(),\n",
    "        \"Random Forest\": RandomForestRegressor(n_estimators=100),\n",
    "        \"SVM Régression\": SVR()\n",
    "    }\n",
    "\n",
    "    for name, model in models.items():\n",
    "        model.fit(X_train, y_train)\n",
    "        y_pred = model.predict(X_test)\n",
    "\n",
    "        print(f\"\\nModèle : {name}\")\n",
    "        print(f\"MAE: {mean_absolute_error(y_test, y_pred):.4f}\")\n",
    "        print(f\"RMSE: {np.sqrt(mean_squared_error(y_test, y_pred)):.4f}\")\n",
    "\n",
    "def apply_classification(X_train, X_test, y_train, y_test):\n",
    "    \"\"\"Applique des modèles de classification et affiche leurs performances.\"\"\"\n",
    "    models = {\n",
    "        \"Arbre de Décision\": DecisionTreeClassifier(),\n",
    "        \"Random Forest\": RandomForestClassifier(n_estimators=100),\n",
    "        \"SVM Classification\": SVC()\n",
    "    }\n",
    "\n",
    "    for name, model in models.items():\n",
    "        model.fit(X_train, y_train)\n",
    "        y_pred = model.predict(X_test)\n",
    "\n",
    "        print(f\"\\nModèle : {name}\")\n",
    "        print(f\"Précision: {accuracy_score(y_test, y_pred):.4f}\")\n",
    "\n",
    "def apply_machine_learning(file_path=\"transformed_countries.csv\", target_column=\"Indice de qualité de vie\"):\n",
    "    \"\"\"Détermine le type de problème (régression ou classification) et applique les modèles appropriés.\"\"\"\n",
    "    try:\n",
    "        X_train, X_test, y_train, y_test, is_regression = load_and_preprocess_data(file_path, target_column)\n",
    "\n",
    "        if is_regression:\n",
    "            print(\"\\n--- Application de la régression ---\")\n",
    "            apply_regression(X_train, X_test, y_train, y_test)\n",
    "        else:\n",
    "            print(\"\\n--- Application de la classification ---\")\n",
    "            apply_classification(X_train, X_test, y_train, y_test)\n",
    "\n",
    "    except Exception as e:\n",
    "        print(f\"Erreu : {e}\")\n"
   ]
  },
  {
   "cell_type": "code",
   "execution_count": 3,
   "metadata": {},
   "outputs": [
    {
     "name": "stdout",
     "output_type": "stream",
     "text": [
      "Données chargées avec succès.\n",
      "\n",
      "--- Application de la régression ---\n",
      "\n",
      "Modèle : Régression Linéaire\n",
      "MAE: 0.0450\n",
      "RMSE: 0.0613\n",
      "\n",
      "Modèle : Arbre de Décision\n",
      "MAE: 14.1167\n",
      "RMSE: 17.8485\n",
      "\n",
      "Modèle : Random Forest\n",
      "MAE: 9.3574\n",
      "RMSE: 11.3100\n",
      "\n",
      "Modèle : SVM Régression\n",
      "MAE: 33.1570\n",
      "RMSE: 37.2127\n"
     ]
    }
   ],
   "source": [
    "apply_machine_learning(\"transformed_countries.csv\", \"Indice de qualité de vie\")"
   ]
  }
 ],
 "metadata": {
  "kernelspec": {
   "display_name": "Python 3",
   "language": "python",
   "name": "python3"
  },
  "language_info": {
   "codemirror_mode": {
    "name": "ipython",
    "version": 3
   },
   "file_extension": ".py",
   "mimetype": "text/x-python",
   "name": "python",
   "nbconvert_exporter": "python",
   "pygments_lexer": "ipython3",
   "version": "3.12.9"
  }
 },
 "nbformat": 4,
 "nbformat_minor": 2
}
